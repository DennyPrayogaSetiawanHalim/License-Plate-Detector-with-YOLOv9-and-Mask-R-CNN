{
  "cells": [
    {
      "cell_type": "code",
      "execution_count": null,
      "metadata": {
        "colab": {
          "base_uri": "https://localhost:8080/"
        },
        "id": "5IRFVMbVRiwR",
        "outputId": "84bb06ff-cab9-42ae-b144-cfce51b8e3ee"
      },
      "outputs": [],
      "source": [
        "from google.colab import drive\n",
        "drive.mount('/content/gdrive')"
      ]
    },
    {
      "cell_type": "markdown",
      "metadata": {
        "id": "YVqB-JccS2Ul"
      },
      "source": [
        "YOLO"
      ]
    },
    {
      "cell_type": "code",
      "execution_count": null,
      "metadata": {
        "colab": {
          "base_uri": "https://localhost:8080/"
        },
        "collapsed": true,
        "id": "vp8m--Pg6lK8",
        "outputId": "af027df3-b85d-4a74-82a4-f518863afc3c"
      },
      "outputs": [],
      "source": [
        "!curl -L \"https://universe.roboflow.com/ds/faNhoDkUzx?key=Ech4EH0Ufp\" > roboflow.zip; unzip roboflow.zip; rm roboflow.zip"
      ]
    },
    {
      "cell_type": "code",
      "execution_count": null,
      "metadata": {
        "colab": {
          "base_uri": "https://localhost:8080/"
        },
        "id": "22xduDt6S2Dj",
        "outputId": "e56b789c-58ef-4032-ea85-5918bf0cee1a"
      },
      "outputs": [],
      "source": [
        "import os\n",
        "import torch\n",
        "print(torch.cuda.is_available())\n",
        "!pip install easyocr\n",
        "!pip install ultralytics\n",
        "import ultralytics\n",
        "ultralytics.checks()"
      ]
    },
    {
      "cell_type": "markdown",
      "metadata": {
        "id": "biPBoW0PS8nb"
      },
      "source": [
        "predict foto / video"
      ]
    },
    {
      "cell_type": "code",
      "execution_count": null,
      "metadata": {
        "id": "QAyFXLDBS5rq"
      },
      "outputs": [],
      "source": [
        "!yolo task=detect mode=predict model=/content/gdrive/MyDrive/PlatNomorTest/model/YOLO3/best.pt conf=0.50 source=/content/test/images/"
      ]
    },
    {
      "cell_type": "code",
      "execution_count": null,
      "metadata": {
        "colab": {
          "base_uri": "https://localhost:8080/"
        },
        "collapsed": true,
        "id": "AAgRsQudS-tR",
        "outputId": "12d2255e-00a5-4b2f-9ad8-0c14fd36a9ec"
      },
      "outputs": [],
      "source": [
        "!yolo task=detect mode=predict model=/content/gdrive/MyDrive/PlatNomorTest/model/YOLO3/best.pt conf=0.50 source=/content/gdrive/MyDrive/PlatNomorTest/video/"
      ]
    },
    {
      "cell_type": "code",
      "execution_count": 7,
      "metadata": {
        "id": "5xaEN-9EfjR6"
      },
      "outputs": [],
      "source": [
        "from ultralytics import YOLO\n",
        "import cv2\n",
        "import easyocr\n",
        "\n",
        "dict_angka = {\n",
        "    '0' : 'O',\n",
        "    '1' : 'I',\n",
        "    '2' : 'Z',\n",
        "    '3' : 'B',\n",
        "    '4' : 'A',\n",
        "    '5' : 'S',\n",
        "    '6' : 'G',\n",
        "    '8' : 'B'\n",
        "}\n",
        "\n",
        "\n",
        "import string\n",
        "def convert_huruf(angka):\n",
        "  if angka in dict_angka:\n",
        "    angka = dict_angka[angka]\n",
        "  return angka\n",
        "\n",
        "def cek_plat(text):\n",
        "  itung_angka = 0;\n",
        "  kalimat = ''\n",
        "  for i in range(0, len(text)):\n",
        "    test = text[i]\n",
        "    if(itung_angka == 4):\n",
        "      test = convert_huruf(text[i])\n",
        "    elif(itung_angka <= 3 and text[i].isnumeric() == True):\n",
        "      itung_angka += 1\n",
        "    kalimat += test\n",
        "  return kalimat\n",
        "\n",
        "\n",
        "model = YOLO(\"/ITERA/TUGAS AKHIR/PLAT NOMOR/Hasil 2/MODELS/YOLOV9/weights/best.pt\")\n",
        "def predict(model, img, classes = [],conf =0.5):\n",
        "  if classes:\n",
        "    results = model.predict(img, classes = classes, conf = conf)\n",
        "  else:\n",
        "    results = model.predict(img, conf = conf)\n",
        "\n",
        "  return results\n",
        "\n",
        "def predict_detect(model, img, classes = [],conf =0.5, rect_thick=2, text_thick=1):\n",
        "  results = predict(model, img, classes, conf=conf)\n",
        "  for result in results:\n",
        "    for box in result.boxes:\n",
        "      cv2.rectangle(img, (int(box.xyxy[0][0]), int(box.xyxy[0][1])),\n",
        "                    (int(box.xyxy[0][2]), int(box.xyxy[0][3])), (255, 0, 0), rect_thick)\n",
        "\n",
        "      text = ''\n",
        "      x1 = int(box.xyxy[0][0])\n",
        "      y1 = int(box.xyxy[0][1])\n",
        "      x2 = int(box.xyxy[0][2])\n",
        "      y2 = int(box.xyxy[0][3])\n",
        "      cropped_image = img[y1:y2, x1:x2]\n",
        "      cropped_image = cv2.cvtColor(img[y1:y2, x1:x2], cv2.COLOR_BGR2GRAY)\n",
        "      reader = easyocr.Reader(['id'])\n",
        "\n",
        "\n",
        "      hasil = reader.readtext(cropped_image, width_ths = 10000, ycenter_ths = 0.50, slope_ths = 100\n",
        "                              , allowlist = 'ABCDEFGHIJKLMNOPQRSTUVWXYZ0123456789'\n",
        "                              , height_ths = 250, decoder = 'wordbeamsearch', beamWidth = 10) #CUMA PLAT NOMOR\n",
        "\n",
        "\n",
        "      text = ''\n",
        "      print(hasil) #######\n",
        "      if(hasil == []):\n",
        "        text = 'Null'\n",
        "      else:\n",
        "        #print(hasil) ########\n",
        "        '''\n",
        "        count = 0\n",
        "        while(count < 3 and count < len(hasil) ):\n",
        "          text = text + hasil[count][1]\n",
        "          count +=1\n",
        "          text = cek_plat(text)\n",
        "          text = text + \" \"\n",
        "        '''\n",
        "\n",
        "        text = text + hasil[0][1]\n",
        "        text = text.upper().replace(' ', '')\n",
        "        text = cek_plat(text)\n",
        "\n",
        "\n",
        "      color = (0,0,0)\n",
        "      fontScale = 0.8\n",
        "      font = cv2.FONT_HERSHEY_SIMPLEX\n",
        "      org = (x1,y1-18)\n",
        "      thickness = 2\n",
        "      (text_w, text_h), baseline = cv2.getTextSize(text, font, fontScale, thickness)\n",
        "      text_color_bg = (255,255,255)\n",
        "      cv2.rectangle(img, org, (x1 + text_w, y1 - text_h - baseline - 12), text_color_bg, -1)\n",
        "      img = cv2.putText(img, text, org, font,\n",
        "                      fontScale, color, thickness, cv2.LINE_AA)\n",
        "      cv2.rectangle(img, (int(box.xyxy[0][0]), int(box.xyxy[0][1] - 15)),\n",
        "                    (int(box.xyxy[0][2]), int(box.xyxy[0][1]) ), (255, 0, 0), -1)\n",
        "      cv2.putText(img, f\"{result.names[int(box.cls[0])]}\" + \"%.5s\" % f\"{box.conf[0]}\",\n",
        "                        (int(box.xyxy[0][0]+5), int(box.xyxy[0][1]) - 2 ),\n",
        "                        cv2.FONT_HERSHEY_PLAIN, 1, (255, 255, 255), text_thick)\n",
        "  return img"
      ]
    },
    {
      "cell_type": "code",
      "execution_count": null,
      "metadata": {
        "colab": {
          "base_uri": "https://localhost:8080/",
          "height": 767
        },
        "id": "GgY3ndLd1AMf",
        "outputId": "2221c97f-106f-41b2-a1e0-e233497ad3e0"
      },
      "outputs": [],
      "source": [
        "img = cv2.imread('/ITERA/TUGAS AKHIR/PLAT NOMOR/DATASET GAMBAR TEST 123/plat(1).jpg')\n",
        "result_img = predict_detect(model, img, classes=[],conf=0.5)\n",
        "cv2.imshow('image',result_img)\n",
        "cv2.waitKey(0)\n",
        "cv2.destroyAllWindows()"
      ]
    },
    {
      "cell_type": "code",
      "execution_count": null,
      "metadata": {
        "colab": {
          "base_uri": "https://localhost:8080/"
        },
        "collapsed": true,
        "id": "i3HN7MJJPOpk",
        "outputId": "f517cee6-68c6-42a4-c0f8-4ced322050fe"
      },
      "outputs": [],
      "source": [
        "import glob\n",
        "\n",
        "no_test = 1\n",
        "\n",
        "for imageName in glob.glob('/content/test/images/*jpg'):\n",
        "  img = cv2.imread(imageName)\n",
        "  result_img, _ = predict_detect(model, img, classes=[],conf=0.5)\n",
        "  imageName2 = 'pred' + str(no_test) + '.jpg'\n",
        "  cv2.imwrite(imageName2, result_img)\n",
        "  no_test = no_test + 1"
      ]
    },
    {
      "cell_type": "code",
      "execution_count": null,
      "metadata": {
        "colab": {
          "base_uri": "https://localhost:8080/"
        },
        "id": "tMyYogqMQxt9",
        "outputId": "f27782f9-b08f-4c0e-f09f-b7acec25a799"
      },
      "outputs": [],
      "source": [
        "import os\n",
        "import glob\n",
        "import shutil\n",
        "\n",
        "test_gambar = '/content/'\n",
        "test_output = '/content/hasil2/'\n",
        "\n",
        "gambar = glob.glob(os.path.join(test_gambar, '*.jpg'), recursive = True)\n",
        "print(gambar)\n",
        "for x in gambar:\n",
        "  dst_path = os.path.join(test_output, os.path.basename(x))\n",
        "  shutil.move(x, dst_path)"
      ]
    },
    {
      "cell_type": "code",
      "execution_count": null,
      "metadata": {
        "colab": {
          "base_uri": "https://localhost:8080/"
        },
        "collapsed": true,
        "id": "hseUPwcQQzH8",
        "outputId": "ebde54e2-a6f4-43f8-a873-039dfdf39142"
      },
      "outputs": [],
      "source": [
        "!zip -r /content/donlod.zip /content/hasil2"
      ]
    },
    {
      "cell_type": "code",
      "execution_count": null,
      "metadata": {
        "colab": {
          "base_uri": "https://localhost:8080/",
          "height": 1000
        },
        "id": "TSDq5ykQ1Z6M",
        "outputId": "88e5181a-69ad-494a-829e-d95842cdd481"
      },
      "outputs": [],
      "source": [
        "cap = cv2.VideoCapture('/ITERA/TUGAS AKHIR/PLAT NOMOR/VIDEO CCTV/EDIT/video3.mp4')\n",
        "frame_width = int(cap.get(3))\n",
        "frame_height = int(cap.get(4))\n",
        "size = (frame_width, frame_height)\n",
        "'''\n",
        "hasil123 = cv2.VideoWriter('test.mp4',\n",
        "                         cv2.VideoWriter_fourcc(*'mp4v'),\n",
        "                         15, size) #nomor = fps\n",
        "'''\n",
        "if (cap.isOpened()== False):\n",
        "  print(\"Error opening video stream or file\")\n",
        "(success, img) = cap.read()\n",
        "while(success):\n",
        "  result_img = predict_detect(model, img, classes=[], conf=0.5)\n",
        "  #hasil123.write(result_img)\n",
        "  cv2.imshow(\"Image\", result_img)\n",
        "  test123 = cv2.waitKey(1)\n",
        "  if test123 == 27:\n",
        "    break\n",
        "  (success, img) = cap.read()\n",
        "cap.release()\n",
        "#hasil123.release()\n",
        "cv2.destroyAllWindows()"
      ]
    },
    {
      "cell_type": "code",
      "execution_count": null,
      "metadata": {},
      "outputs": [],
      "source": [
        "cap = cv2.VideoCapture(0)\n",
        "frame_width = int(cap.get(cv2.CAP_PROP_FRAME_WIDTH))\n",
        "frame_height = int(cap.get(cv2.CAP_PROP_FRAME_HEIGHT))\n",
        "size = (frame_width, frame_height)\n",
        "'''\n",
        "hasil123 = cv2.VideoWriter('test.mp4',\n",
        "                         cv2.VideoWriter_fourcc(*'mp4v'),\n",
        "                         15, size) #nomor = fps\n",
        "'''\n",
        "if (cap.isOpened()== False):\n",
        "  print(\"Error opening video stream or file\")\n",
        "(success, img) = cap.read()\n",
        "while(success):\n",
        "  result_img = predict_detect(model, img, classes=[], conf=0.5)\n",
        "  #hasil123.write(result_img)\n",
        "  cv2.imshow(\"Image\", result_img)\n",
        "  test123 = cv2.waitKey(1)\n",
        "  if test123 == 27:\n",
        "    break\n",
        "  (success, img) = cap.read()\n",
        "cap.release()\n",
        "#hasil123.release()\n",
        "cv2.destroyAllWindows()"
      ]
    },
    {
      "cell_type": "markdown",
      "metadata": {
        "id": "_otb33MdZ6a_"
      },
      "source": [
        "Eval OCR"
      ]
    },
    {
      "cell_type": "code",
      "execution_count": null,
      "metadata": {
        "id": "3gkvl6GeZ5kz"
      },
      "outputs": [],
      "source": [
        "from ultralytics import YOLO\n",
        "from google.colab.patches import cv2_imshow\n",
        "import cv2\n",
        "import easyocr\n",
        "\n",
        "def count_characters(string):\n",
        "    character_count = {}\n",
        "\n",
        "    for char in string:\n",
        "        if char in character_count:\n",
        "            character_count[char] += 1\n",
        "        else:\n",
        "            character_count[char] = 1\n",
        "\n",
        "    return character_count\n",
        "\n",
        "def compare_character_counts(string1, string2):\n",
        "    count1 = count_characters(string1)\n",
        "    count2 = count_characters(string2)\n",
        "\n",
        "    all_chars = set(count1.keys()).union(set(count2.keys()))\n",
        "\n",
        "    comparison = {}\n",
        "    for char in all_chars:\n",
        "        comparison[char] = (count1.get(char, 0), count2.get(char, 0))\n",
        "\n",
        "    return comparison\n",
        "\n",
        "dict_angka = {\n",
        "    '0' : 'O',\n",
        "    '1' : 'I',\n",
        "    '2' : 'Z',\n",
        "    '3' : 'B',\n",
        "    '4' : 'A',\n",
        "    '5' : 'S',\n",
        "    '6' : 'G',\n",
        "    '8' : 'B'\n",
        "}\n",
        "\n",
        "\n",
        "import string\n",
        "def convert_huruf(angka):\n",
        "  if angka in dict_angka:\n",
        "    angka = dict_angka[angka]\n",
        "  return angka\n",
        "\n",
        "def cek_plat(text):\n",
        "  itung_angka = 0;\n",
        "  kalimat = ''\n",
        "  for i in range(0, len(text)):\n",
        "    test = text[i]\n",
        "    if(itung_angka == 4):\n",
        "      test = convert_huruf(text[i])\n",
        "    elif(itung_angka <= 3 and text[i].isnumeric() == True):\n",
        "      itung_angka += 1\n",
        "    kalimat += test\n",
        "  return kalimat\n",
        "\n",
        "\n",
        "model = YOLO(\"/content/gdrive/MyDrive/PlatNomorTest/model/YOLOv9/best.pt\")\n",
        "def predict(model, img, classes = [],conf =0.5):\n",
        "  if classes:\n",
        "    results = model.predict(img, classes = classes, conf = conf)\n",
        "  else:\n",
        "    results = model.predict(img, conf = conf)\n",
        "\n",
        "  return results\n",
        "\n",
        "def eval(model, img, classes = [],conf =0.5, rect_thick=2, text_thick=1):\n",
        "  results = predict(model, img, classes, conf=conf)\n",
        "  for result in results:\n",
        "    for box in result.boxes:\n",
        "      cv2.rectangle(img, (int(box.xyxy[0][0]), int(box.xyxy[0][1])),\n",
        "                    (int(box.xyxy[0][2]), int(box.xyxy[0][3])), (255, 0, 0), rect_thick)\n",
        "\n",
        "      text = ''\n",
        "      x1 = int(box.xyxy[0][0])\n",
        "      y1 = int(box.xyxy[0][1])\n",
        "      x2 = int(box.xyxy[0][2])\n",
        "      y2 = int(box.xyxy[0][3])\n",
        "      cropped_image = img[y1:y2, x1:x2]\n",
        "      cropped_image = cv2.cvtColor(img[y1:y2, x1:x2], cv2.COLOR_BGR2GRAY)\n",
        "      reader = easyocr.Reader(['id'])\n",
        "\n",
        "\n",
        "      hasil = reader.readtext(cropped_image, width_ths = 10000, ycenter_ths = 0.50, slope_ths = 100\n",
        "                              , allowlist = 'ABCDEFGHIJKLMNOPQRSTUVWXYZ0123456789'\n",
        "                              , height_ths = 250, decoder = 'wordbeamsearch', beamWidth = 10) #CUMA PLAT NOMOR\n",
        "\n",
        "\n",
        "      text = ''\n",
        "      #print(hasil) #######\n",
        "      if(hasil == []):\n",
        "        text = 'null'\n",
        "      else:\n",
        "        #print(hasil) ########\n",
        "        '''\n",
        "        count = 0\n",
        "        while(count < 3 and count < len(hasil) ):\n",
        "          text = text + hasil[count][1]\n",
        "          count +=1\n",
        "          text = cek_plat(text)\n",
        "          text = text + \" \"\n",
        "        '''\n",
        "\n",
        "        text = text + hasil[0][1]\n",
        "        text = text.upper().replace(' ', '')\n",
        "        text = cek_plat(text)\n",
        "\n",
        "      return text"
      ]
    },
    {
      "cell_type": "code",
      "execution_count": null,
      "metadata": {
        "colab": {
          "base_uri": "https://localhost:8080/"
        },
        "id": "r3Blpsgfk3FF",
        "outputId": "43bd1a8f-bc3c-4e40-ddcd-66d89a9f55fa"
      },
      "outputs": [],
      "source": [
        "import glob\n",
        "cm_tp=0;\n",
        "cm_tn=0;\n",
        "cm_fp=0;\n",
        "cm_fn=0;\n",
        "for imageName in glob.glob('/content/gdrive/MyDrive/PlatNomorTest/TestOCR/*.jpg'):\n",
        "  test123 = '.jpg'\n",
        "  stringName = (imageName.replace(test123, '')) + '.txt'\n",
        "\n",
        "  f = open(stringName, \"r\")\n",
        "  text2 = f.read()\n",
        "  #print(text2)\n",
        "\n",
        "  img = cv2.imread(imageName)\n",
        "  text1 = eval(model, img, classes=[],conf=0.5)\n",
        "\n",
        "  #print(text1)\n",
        "\n",
        "  character_comparison = compare_character_counts(text2, text1)\n",
        "  '''\n",
        "  for char, counts in character_comparison.items():\n",
        "    print(f\"'{char}': String1 = {counts[0]}, String2 = {counts[1]}\")\n",
        "  '''\n",
        "  for char,counts in character_comparison.items():\n",
        "    if len(text2) == len(text1):\n",
        "      if counts[0] == counts[1]:\n",
        "        cm_tp += counts[1]\n",
        "      elif counts[0] > counts[1]:\n",
        "        cm_tp += counts[1]\n",
        "        cm_fn += counts[0] - counts[1]\n",
        "    elif len(text2) > len(text1):\n",
        "      if counts[0] == counts[1]:\n",
        "        cm_tp += counts[1]\n",
        "      elif counts[0] > counts[1]:\n",
        "        cm_tp += counts[1]\n",
        "        cm_fn += counts[0] - counts[1]\n",
        "    elif len(text2) < len(text1):\n",
        "      cm_fp += len(text1) - len(text2)\n",
        "      if counts[0] == counts[1]:\n",
        "        cm_tp += counts[1]\n",
        "      elif counts[0] > counts[1]:\n",
        "        cm_tp += counts[1]\n",
        "        cm_fn += counts[0] - counts[1]\n",
        "\n",
        "precision = cm_tp/(cm_tp+cm_fp)\n",
        "recall = cm_tp/(cm_tp+cm_fn)\n",
        "f1_score = 2 * (precision * recall) / (precision + recall)\n",
        "\n",
        "print(\"True Positive : \",cm_tp)\n",
        "print(\"False Positive : \",cm_fp)\n",
        "print(\"False Negative : \",cm_fn)\n",
        "print(\"True Negative : \",cm_tn)\n",
        "print(\"Precision:\", precision)\n",
        "print(\"Recall:\", recall)\n",
        "print(\"F1 Score:\", f1_score)"
      ]
    },
    {
      "cell_type": "markdown",
      "metadata": {
        "id": "znbmWoBMTHAB"
      },
      "source": [
        "test"
      ]
    },
    {
      "cell_type": "code",
      "execution_count": null,
      "metadata": {
        "id": "wHio4VTYTIpQ"
      },
      "outputs": [],
      "source": [
        "#!yolo val model=/content/gdrive/MyDrive/PlatNomorTest/model/YOLO3/best.pt data=/content/data.yaml split=test conf=0.5"
      ]
    },
    {
      "cell_type": "markdown",
      "metadata": {
        "id": "FIcH00WC-M67"
      },
      "source": [
        "test2"
      ]
    },
    {
      "cell_type": "code",
      "execution_count": null,
      "metadata": {
        "colab": {
          "base_uri": "https://localhost:8080/"
        },
        "id": "ndReGX1H-MX5",
        "outputId": "5fc7dde9-ac13-4d2e-eaca-66f1347de34a"
      },
      "outputs": [],
      "source": [
        "import ultralytics\n",
        "from ultralytics import YOLO\n",
        "model = YOLO(\"/content/gdrive/MyDrive/PlatNomorTest/model/YOLO3/best.pt\")\n",
        "metrics = model.val(data=\"/content/data.yaml\", imgsz=640, batch=16, conf=0.5, device=\"0\", save_json=True, split='test')"
      ]
    },
    {
      "cell_type": "markdown",
      "metadata": {
        "id": "ddE31UN67fWW"
      },
      "source": [
        "zip"
      ]
    },
    {
      "cell_type": "code",
      "execution_count": null,
      "metadata": {
        "id": "W1IhgIS3Bjcz"
      },
      "outputs": [],
      "source": [
        "#kalau utf-8 error\n",
        "import locale\n",
        "locale.getpreferredencoding = lambda: \"UTF-8\""
      ]
    },
    {
      "cell_type": "code",
      "execution_count": null,
      "metadata": {
        "colab": {
          "base_uri": "https://localhost:8080/"
        },
        "id": "UNxkyX6R7e5x",
        "outputId": "1976afc5-118b-411f-ed00-611b9bddc963"
      },
      "outputs": [],
      "source": [
        "from google.colab import files\n",
        "!zip -r /content/donlod.zip /content/runs"
      ]
    },
    {
      "cell_type": "markdown",
      "metadata": {
        "id": "Ztsu0RxJmg3S"
      },
      "source": [
        "pindahin ke drive"
      ]
    },
    {
      "cell_type": "code",
      "execution_count": null,
      "metadata": {
        "id": "dW_RSipPmrQH"
      },
      "outputs": [],
      "source": [
        "!cp donlod.zip /content/gdrive/MyDrive/PlatNomorTest"
      ]
    },
    {
      "cell_type": "markdown",
      "metadata": {
        "id": "DliaQuKlTLKV"
      },
      "source": [
        "Mask R-CNN"
      ]
    },
    {
      "cell_type": "code",
      "execution_count": null,
      "metadata": {
        "colab": {
          "base_uri": "https://localhost:8080/"
        },
        "collapsed": true,
        "id": "O4yfzM606gPW",
        "outputId": "58f3eb31-b2a5-40b6-916e-cb5d17956c03"
      },
      "outputs": [],
      "source": [
        "!curl -L \"https://universe.roboflow.com/ds/seOB03nXfn?key=M8PBpdsehF\" > roboflow.zip; unzip roboflow.zip; rm roboflow.zip"
      ]
    },
    {
      "cell_type": "code",
      "execution_count": null,
      "metadata": {
        "colab": {
          "base_uri": "https://localhost:8080/"
        },
        "id": "Ls60Er9YDgju",
        "outputId": "8b6c07a4-eec4-4736-c13b-847b9a86689b"
      },
      "outputs": [],
      "source": [
        "!pip install pyyaml==5.1\n",
        "#https://detectron2.readthedocs.io/tutorials/install.html\n",
        "import torch\n",
        "TORCH_VERSION = \".\".join(torch.__version__.split(\".\")[:2])\n",
        "CUDA_VERSION = torch.__version__.split(\"+\")[-1]\n",
        "print(\"torch: \", TORCH_VERSION, \"; cuda: \", CUDA_VERSION)\n",
        "!python -m pip install 'git+https://github.com/facebookresearch/detectron2.git'"
      ]
    },
    {
      "cell_type": "code",
      "execution_count": null,
      "metadata": {
        "colab": {
          "base_uri": "https://localhost:8080/"
        },
        "id": "6XlABVzt76aI",
        "outputId": "a0e18405-67da-4ce7-cb78-390e86eb1b35"
      },
      "outputs": [],
      "source": [
        "!pip show detectron2"
      ]
    },
    {
      "cell_type": "code",
      "execution_count": null,
      "metadata": {
        "id": "qMwwuMNrTMoY"
      },
      "outputs": [],
      "source": [
        "import detectron2\n",
        "from detectron2.config import get_cfg\n",
        "from detectron2.engine import DefaultPredictor\n",
        "from detectron2.data import build_detection_test_loader\n",
        "from detectron2.data.datasets import register_coco_instances\n",
        "from detectron2.evaluation import COCOEvaluator, inference_on_dataset\n",
        "from detectron2 import model_zoo\n",
        "\n",
        "register_coco_instances(\"my_dataset_train\", {}, \"/content/train/_annotations.coco.json\", \"/content/train\")\n",
        "register_coco_instances(\"my_dataset_val\", {}, \"/content/valid/_annotations.coco.json\", \"/content/valid\")\n",
        "register_coco_instances(\"my_dataset_test\", {}, \"/content/test/_annotations.coco.json\", \"/content/test\")"
      ]
    },
    {
      "cell_type": "code",
      "execution_count": null,
      "metadata": {
        "id": "6Ui2LEPBlW0c"
      },
      "outputs": [],
      "source": [
        "cfg = get_cfg()\n",
        "cfg.merge_from_file(model_zoo.get_config_file(\"COCO-InstanceSegmentation/mask_rcnn_R_101_FPN_3x.yaml\"))\n",
        "cfg.MODEL.ROI_HEADS.SCORE_THRESH_TEST = 0.5\n",
        "cfg.MODEL.ROI_HEADS.NUM_CLASSES = 2\n",
        "cfg.MODEL.MASK_ON = False\n",
        "cfg.MODEL.DEVICE='cpu' #pake CPU only\n",
        "cfg.MODEL.WEIGHTS = \"/content/gdrive/MyDrive/PlatNomorTest/model/Mask640/model_final.pth\""
      ]
    },
    {
      "cell_type": "code",
      "execution_count": null,
      "metadata": {
        "colab": {
          "base_uri": "https://localhost:8080/"
        },
        "id": "DyBxVfDJlfyx",
        "outputId": "540c3b4a-9855-4ed5-b019-d17cca280b58"
      },
      "outputs": [],
      "source": [
        "predictor = DefaultPredictor(cfg)\n",
        "evaluator = COCOEvaluator(\"my_dataset_val\", cfg, False, output_dir=\"./output/\")\n",
        "val_loader = build_detection_test_loader(cfg, \"my_dataset_val\")\n",
        "inference_on_dataset(predictor.model, val_loader, evaluator)"
      ]
    },
    {
      "cell_type": "code",
      "execution_count": null,
      "metadata": {
        "colab": {
          "base_uri": "https://localhost:8080/"
        },
        "id": "7PtW7pjAk1CR",
        "outputId": "d33544ff-9a65-4b6f-92a3-689e73011c9d"
      },
      "outputs": [],
      "source": [
        "!pip install easyocr"
      ]
    },
    {
      "cell_type": "code",
      "execution_count": null,
      "metadata": {
        "colab": {
          "base_uri": "https://localhost:8080/",
          "height": 1000
        },
        "id": "FlCtAs0H0aWs",
        "outputId": "24849475-e7be-4e47-fcb7-f598d083f2d9"
      },
      "outputs": [],
      "source": [
        "import easyocr\n",
        "import cv2\n",
        "from detectron2.utils.visualizer import Visualizer\n",
        "from detectron2.utils.visualizer import ColorMode\n",
        "import glob\n",
        "from detectron2.data import MetadataCatalog\n",
        "from detectron2.data.catalog import DatasetCatalog\n",
        "from google.colab.patches import cv2_imshow\n",
        "\n",
        "dict_angka = {\n",
        "    '0' : 'O',\n",
        "    '1' : 'I',\n",
        "    '2' : 'Z',\n",
        "    '3' : 'B',\n",
        "    '4' : 'A',\n",
        "    '5' : 'S',\n",
        "    '6' : 'G',\n",
        "    '8' : 'B'\n",
        "}\n",
        "\n",
        "\n",
        "import string\n",
        "def convert_huruf(angka):\n",
        "  if angka in dict_angka:\n",
        "    angka = dict_angka[angka]\n",
        "  return angka\n",
        "\n",
        "def cek_plat(text):\n",
        "  itung_angka = 0;\n",
        "  kalimat = ''\n",
        "  for i in range(0, len(text)):\n",
        "    test = text[i]\n",
        "    if(itung_angka == 4):\n",
        "      test = convert_huruf(text[i])\n",
        "    elif(itung_angka <= 3 and text[i].isnumeric() == True):\n",
        "      itung_angka += 1\n",
        "    kalimat += test\n",
        "  return kalimat\n",
        "\n",
        "\n",
        "test_metadata = MetadataCatalog.get(\"my_dataset_train\")\n",
        "dataset_dicts = DatasetCatalog.get(\"my_dataset_train\")\n",
        "\n",
        "no_test = 1\n",
        "predictor = DefaultPredictor(cfg)\n",
        "\n",
        "for imageName in glob.glob('/content/test/*jpg'):\n",
        "  img = cv2.imread(imageName)\n",
        "  outputs = predictor(img)\n",
        "\n",
        "\n",
        "  pred_img = predictor(img)\n",
        "  kotak = pred_img[\"instances\"].pred_boxes\n",
        "  x1,x2,y1,y2 = 0,0,0,0\n",
        "  for i in kotak.__iter__():\n",
        "    x1 = int(i.cpu().numpy()[0])\n",
        "    y1 = int(i.cpu().numpy()[1])\n",
        "    x2 = int(i.cpu().numpy()[2])\n",
        "    y2 = int(i.cpu().numpy()[3])\n",
        "    cropped_image = img[y1:y2, x1:x2]\n",
        "    cropped_image = cv2.cvtColor(img[y1:y2, x1:x2], cv2.COLOR_BGR2GRAY)\n",
        "    reader = easyocr.Reader(['id'])\n",
        "    result = reader.readtext(cropped_image, width_ths = 10000, ycenter_ths = 0.50, slope_ths = 100\n",
        "                              , allowlist = 'ABCDEFGHIJKLMNOPQRSTUVWXYZ0123456789'\n",
        "                              , height_ths = 250, decoder = 'wordbeamsearch', beamWidth = 10) #CUMA PLAT NOMOR\n",
        "\n",
        "\n",
        "\n",
        "    text = ''\n",
        "    if(result == []):\n",
        "      text = 'Null'\n",
        "    else:\n",
        "      text = text + result[0][1]\n",
        "      text = text.upper().replace(' ', '')\n",
        "      text = cek_plat(text)\n",
        "\n",
        "    color = (0,0,0)\n",
        "    fontScale = 0.8\n",
        "    font = cv2.FONT_HERSHEY_SIMPLEX\n",
        "    org = (x1,y1-5)\n",
        "    thickness = 2\n",
        "    (text_w, text_h), baseline = cv2.getTextSize(text, font, fontScale, thickness)\n",
        "    text_color_bg = (255,255,255)\n",
        "    cv2.rectangle(img, org, (x1 + text_w + 10 - baseline, y1 - text_h - baseline), text_color_bg, -1)\n",
        "    img = cv2.putText(img, text, org, font,\n",
        "                    fontScale, color, thickness, cv2.LINE_AA)\n",
        "\n",
        "\n",
        "  v = Visualizer(img[:, :, ::-1],\n",
        "                metadata=test_metadata,\n",
        "                scale=0.8\n",
        "                 )\n",
        "  out = v.draw_instance_predictions(outputs[\"instances\"].to(\"cpu\"))\n",
        "  cv2_imshow(out.get_image()[:, :, ::-1])\n",
        "\n",
        "  imageName2 = 'pred' + str(no_test) + '.jpg'\n",
        "  cv2.imwrite(imageName2, out.get_image()[:, :, ::-1])\n",
        "  no_test = no_test + 1\n"
      ]
    },
    {
      "cell_type": "code",
      "execution_count": null,
      "metadata": {
        "colab": {
          "base_uri": "https://localhost:8080/"
        },
        "id": "mlDVBXGOiIBg",
        "outputId": "5ffdfbe2-77ee-42e6-802c-876a92ea4733"
      },
      "outputs": [],
      "source": [
        "import os\n",
        "import glob\n",
        "import shutil\n",
        "\n",
        "test_gambar = '/content/'\n",
        "test_output = '/content/output/'\n",
        "\n",
        "gambar = glob.glob(os.path.join(test_gambar, '*.jpg'), recursive = True)\n",
        "print(gambar)\n",
        "for x in gambar:\n",
        "  dst_path = os.path.join(test_output, os.path.basename(x))\n",
        "  shutil.move(x, dst_path)"
      ]
    },
    {
      "cell_type": "code",
      "execution_count": null,
      "metadata": {
        "colab": {
          "base_uri": "https://localhost:8080/"
        },
        "id": "kMvdo3UDmzdf",
        "outputId": "a9bea50e-bcaa-46a5-94bf-fe47e8ad256f"
      },
      "outputs": [],
      "source": [
        "!zip -r /content/donlod.zip /content/output"
      ]
    },
    {
      "cell_type": "markdown",
      "metadata": {
        "id": "g9t0ay-AjJPQ"
      },
      "source": [
        "Predict per gambar"
      ]
    },
    {
      "cell_type": "code",
      "execution_count": null,
      "metadata": {
        "id": "HXDcDLGxjIs2"
      },
      "outputs": [],
      "source": [
        "import cv2\n",
        "predictor = DefaultPredictor(cfg)\n",
        "image_path = '/content/pred1.jpg'\n",
        "img = cv2.imread(image_path)\n",
        "outputs = predictor(img)\n",
        "v = Visualizer(img[:, :, ::-1],\n",
        "              metadata=test_metadata,\n",
        "              scale=0.8\n",
        "              )\n",
        "out = v.draw_instance_predictions(outputs[\"instances\"].to(\"cpu\"))\n",
        "cv2_imshow(out.get_image()[:, :, ::-1])"
      ]
    },
    {
      "cell_type": "markdown",
      "metadata": {
        "id": "Gk0w6WdKbZUu"
      },
      "source": [
        "Predict video"
      ]
    },
    {
      "cell_type": "code",
      "execution_count": null,
      "metadata": {
        "colab": {
          "base_uri": "https://localhost:8080/"
        },
        "id": "pT-OpsgKbZBa",
        "outputId": "3c2f46f2-86fa-4061-e6b7-aa5c3a06bd31"
      },
      "outputs": [],
      "source": [
        "import easyocr\n",
        "import cv2\n",
        "from detectron2.utils.visualizer import Visualizer\n",
        "from detectron2.utils.visualizer import ColorMode\n",
        "import glob\n",
        "from detectron2.data import MetadataCatalog\n",
        "from detectron2.data.catalog import DatasetCatalog\n",
        "from google.colab.patches import cv2_imshow\n",
        "import time\n",
        "\n",
        "dict_angka = {\n",
        "    '0' : 'O',\n",
        "    '1' : 'I',\n",
        "    '2' : 'Z',\n",
        "    '3' : 'B',\n",
        "    '4' : 'A',\n",
        "    '5' : 'S',\n",
        "    '6' : 'G',\n",
        "    '8' : 'B'\n",
        "}\n",
        "\n",
        "\n",
        "import string\n",
        "def convert_huruf(angka):\n",
        "  if angka in dict_angka:\n",
        "    angka = dict_angka[angka]\n",
        "  return angka\n",
        "\n",
        "def cek_plat(text):\n",
        "  itung_angka = 0;\n",
        "  kalimat = ''\n",
        "  for i in range(0, len(text)):\n",
        "    test = text[i]\n",
        "    if(itung_angka == 4):\n",
        "      test = convert_huruf(text[i])\n",
        "    elif(itung_angka <= 3 and text[i].isnumeric() == True):\n",
        "      itung_angka += 1\n",
        "    kalimat += test\n",
        "  return kalimat\n",
        "\n",
        "predictor = DefaultPredictor(cfg)\n",
        "cap = cv2.VideoCapture('/content/gdrive/MyDrive/PlatNomorTest/video/video6.mp4')\n",
        "frame_width = int(cap.get(3))\n",
        "frame_height = int(cap.get(4))\n",
        "size = (frame_width, frame_height)\n",
        "hasil123 = cv2.VideoWriter('test.mp4',\n",
        "                         cv2.VideoWriter_fourcc(*'mp4v'),\n",
        "                         15, size)\n",
        "\n",
        "if (cap.isOpened()== False):\n",
        "  print(\"Error opening video stream or file\")\n",
        "\n",
        "(success, img) = cap.read()\n",
        "while(success):\n",
        "  start_time = time.time()\n",
        "  pred_img = predictor(img)\n",
        "  end_time = time.time()\n",
        "  inference_time = end_time - start_time\n",
        "  print(f\"Inference time: {inference_time:.4f} seconds\")\n",
        "  kotak = pred_img[\"instances\"].pred_boxes\n",
        "  x1,x2,y1,y2 = 0,0,0,0\n",
        "  for i in kotak.__iter__():\n",
        "    x1 = int(i.cpu().numpy()[0])\n",
        "    y1 = int(i.cpu().numpy()[1])\n",
        "    x2 = int(i.cpu().numpy()[2])\n",
        "    y2 = int(i.cpu().numpy()[3])\n",
        "    cropped_image = img[y1:y2, x1:x2]\n",
        "    cropped_image = cv2.cvtColor(img[y1:y2, x1:x2], cv2.COLOR_BGR2GRAY)\n",
        "    reader = easyocr.Reader(['id'])\n",
        "    hasil = reader.readtext(cropped_image, width_ths = 10000, ycenter_ths = 0.50, slope_ths = 100\n",
        "                              , allowlist = 'ABCDEFGHIJKLMNOPQRSTUVWXYZ0123456789'\n",
        "                              , height_ths = 250, decoder = 'wordbeamsearch', beamWidth = 10)\n",
        "    text = ''\n",
        "    if(hasil == []):\n",
        "      text = 'Null'\n",
        "    else:\n",
        "      text = text + hasil[0][1]\n",
        "      text = text.upper().replace(' ', '')\n",
        "      text = cek_plat(text)\n",
        "\n",
        "    color = (0,0,0)\n",
        "    fontScale = 0.8\n",
        "    font = cv2.FONT_HERSHEY_SIMPLEX\n",
        "    org = (x1,y1-5)\n",
        "    thickness = 2\n",
        "    (text_w, text_h), baseline = cv2.getTextSize(text, font, fontScale, thickness)\n",
        "    text_color_bg = (255,255,255)\n",
        "    cv2.rectangle(img, org, (x1 + text_w + 10 - baseline, y1 - text_h - baseline), text_color_bg, -1)\n",
        "    img = cv2.putText(img, text, org, font,\n",
        "                    fontScale, color, thickness, cv2.LINE_AA)\n",
        "\n",
        "\n",
        "  v = Visualizer(img,\n",
        "                metadata={},\n",
        "                )\n",
        "  output = v.draw_instance_predictions(predictions[\"instances\"].to(\"cpu\"))\n",
        "  #cv2_imshow(output.get_image()[:, :, ::-1])\n",
        "  hasil123.write(output.get_image())\n",
        "\n",
        "  key = cv2.waitKey(1)\n",
        "  if key == ord(\"t\"):\n",
        "    break\n",
        "  (success, img) = cap.read()\n",
        "\n",
        "cap.release()\n",
        "hasil123.release()\n",
        "cv2.destroyAllWindows()\n",
        "\n",
        "print(\"The video was successfully saved\")"
      ]
    },
    {
      "cell_type": "code",
      "execution_count": null,
      "metadata": {
        "id": "rKk9rPTGqsG9"
      },
      "outputs": [],
      "source": [
        "!cp test.avi /content/gdrive/MyDrive/PlatNomorTest"
      ]
    },
    {
      "cell_type": "markdown",
      "metadata": {
        "id": "Kbflnzy9yAju"
      },
      "source": [
        "single image"
      ]
    },
    {
      "cell_type": "code",
      "execution_count": null,
      "metadata": {
        "id": "ZNuIUjoGyCWr"
      },
      "outputs": [],
      "source": [
        "import easyocr\n",
        "import cv2\n",
        "from detectron2.utils.visualizer import Visualizer\n",
        "from detectron2.utils.visualizer import ColorMode\n",
        "import glob\n",
        "from detectron2.data import MetadataCatalog\n",
        "from detectron2.data.catalog import DatasetCatalog\n",
        "from google.colab.patches import cv2_imshow\n",
        "\n",
        "test_metadata = MetadataCatalog.get(\"my_dataset_train\")\n",
        "dataset_dicts = DatasetCatalog.get(\"my_dataset_train\")\n",
        "\n",
        "predictor = DefaultPredictor(cfg)\n",
        "image_path = '/content/plat(398).jpg'\n",
        "img = cv2.imread(image_path)\n",
        "outputs = predictor(img)\n",
        "\n",
        "pred_img = predictor(img)\n",
        "kotak = pred_img[\"instances\"].pred_boxes\n",
        "x1,x2,y1,y2 = 0,0,0,0\n",
        "\n",
        "for i in kotak.__iter__():\n",
        "  x1 = int(i.cpu().numpy()[0])\n",
        "  y1 = int(i.cpu().numpy()[1])\n",
        "  x2 = int(i.cpu().numpy()[2])\n",
        "  y2 = int(i.cpu().numpy()[3])\n",
        "  cropped_image = img[y1:y2, x1:x2]\n",
        "  cropped_image = cv2.cvtColor(img[y1:y2, x1:x2], cv2.COLOR_BGR2GRAY)\n",
        "  reader = easyocr.Reader(['id'])\n",
        "  result = reader.readtext(cropped_image)\n",
        "\n",
        "  if(result == []):\n",
        "    text = 'Null'\n",
        "  else:\n",
        "    text = result[0][1]\n",
        "    text = text.upper().replace(' ', '')\n",
        "\n",
        "  color = (0,0,0)\n",
        "  fontScale = 0.8\n",
        "  font = cv2.FONT_HERSHEY_SIMPLEX\n",
        "  org = (x1,y1-5)\n",
        "  thickness = 2\n",
        "  (text_w, text_h), baseline = cv2.getTextSize(text, font, fontScale, thickness)\n",
        "  text_color_bg = (255,255,255)\n",
        "  cv2.rectangle(img, org, (x1 + text_w - baseline, y1 - text_h - baseline), text_color_bg, -1)\n",
        "  img = cv2.putText(img, text, org, font,\n",
        "                   fontScale, color, thickness, cv2.LINE_AA)\n",
        "\n",
        "v = Visualizer(img[:, :, ::-1],\n",
        "              metadata=test_metadata,\n",
        "              scale=0.8\n",
        "              )\n",
        "\n",
        "out = v.draw_instance_predictions(outputs[\"instances\"].to(\"cpu\"))\n",
        "\n",
        "cv2_imshow(out.get_image()[:, :, ::-1])"
      ]
    },
    {
      "cell_type": "markdown",
      "metadata": {
        "id": "YLSptgaF4dzJ"
      },
      "source": [
        "EVAL\n"
      ]
    },
    {
      "cell_type": "code",
      "execution_count": null,
      "metadata": {
        "colab": {
          "base_uri": "https://localhost:8080/"
        },
        "id": "VoHX14fb4faY",
        "outputId": "6be4f007-4a60-4a6b-b5b9-e201b4272506"
      },
      "outputs": [],
      "source": [
        "import easyocr\n",
        "import cv2\n",
        "from detectron2.utils.visualizer import Visualizer\n",
        "from detectron2.utils.visualizer import ColorMode\n",
        "import glob\n",
        "from detectron2.data import MetadataCatalog\n",
        "from detectron2.data.catalog import DatasetCatalog\n",
        "from google.colab.patches import cv2_imshow\n",
        "\n",
        "def count_characters(string):\n",
        "    character_count = {}\n",
        "\n",
        "    for char in string:\n",
        "        if char in character_count:\n",
        "            character_count[char] += 1\n",
        "        else:\n",
        "            character_count[char] = 1\n",
        "\n",
        "    return character_count\n",
        "\n",
        "def compare_character_counts(string1, string2):\n",
        "    count1 = count_characters(string1)\n",
        "    count2 = count_characters(string2)\n",
        "\n",
        "    all_chars = set(count1.keys()).union(set(count2.keys()))\n",
        "\n",
        "    comparison = {}\n",
        "    for char in all_chars:\n",
        "        comparison[char] = (count1.get(char, 0), count2.get(char, 0))\n",
        "\n",
        "    return comparison\n",
        "\n",
        "dict_angka = {\n",
        "    '0' : 'O',\n",
        "    '1' : 'I',\n",
        "    '2' : 'Z',\n",
        "    '3' : 'B',\n",
        "    '4' : 'A',\n",
        "    '5' : 'S',\n",
        "    '6' : 'G',\n",
        "    '8' : 'B'\n",
        "}\n",
        "\n",
        "\n",
        "import string\n",
        "def convert_huruf(angka):\n",
        "  if angka in dict_angka:\n",
        "    angka = dict_angka[angka]\n",
        "  return angka\n",
        "\n",
        "def cek_plat(text):\n",
        "  itung_angka = 0;\n",
        "  kalimat = ''\n",
        "  for i in range(0, len(text)):\n",
        "    test = text[i]\n",
        "    if(itung_angka == 4):\n",
        "      test = convert_huruf(text[i])\n",
        "    elif(itung_angka <= 3 and text[i].isnumeric() == True):\n",
        "      itung_angka += 1\n",
        "    kalimat += test\n",
        "  return kalimat\n",
        "\n",
        "no_test = 1\n",
        "predictor = DefaultPredictor(cfg)\n",
        "\n",
        "import glob\n",
        "cm_tp=0;\n",
        "cm_tn=0;\n",
        "cm_fp=0;\n",
        "cm_fn=0;\n",
        "\n",
        "for imageName in glob.glob('/content/gdrive/MyDrive/PlatNomorTest/TestOCR/*.jpg'):\n",
        "  test123 = '.jpg'\n",
        "  stringName = (imageName.replace(test123, '')) + '.txt'\n",
        "\n",
        "  f = open(stringName, \"r\")\n",
        "  text2 = f.read()\n",
        "  #print(text2)\n",
        "\n",
        "  img = cv2.imread(imageName)\n",
        "  outputs = predictor(img)\n",
        "\n",
        "\n",
        "  pred_img = predictor(img)\n",
        "  kotak = pred_img[\"instances\"].pred_boxes\n",
        "  x1,x2,y1,y2 = 0,0,0,0\n",
        "  for i in kotak.__iter__():\n",
        "    x1 = int(i.cpu().numpy()[0])\n",
        "    y1 = int(i.cpu().numpy()[1])\n",
        "    x2 = int(i.cpu().numpy()[2])\n",
        "    y2 = int(i.cpu().numpy()[3])\n",
        "    cropped_image = img[y1:y2, x1:x2]\n",
        "    cropped_image = cv2.cvtColor(img[y1:y2, x1:x2], cv2.COLOR_BGR2GRAY)\n",
        "    reader = easyocr.Reader(['id'])\n",
        "    result = reader.readtext(cropped_image, width_ths = 10000, ycenter_ths = 0.50, slope_ths = 100\n",
        "                              , allowlist = 'ABCDEFGHIJKLMNOPQRSTUVWXYZ0123456789'\n",
        "                              , height_ths = 250, decoder = 'wordbeamsearch', beamWidth = 10) #CUMA PLAT NOMOR\n",
        "\n",
        "\n",
        "\n",
        "    text = ''\n",
        "    if(result == []):\n",
        "      text = 'null'\n",
        "    else:\n",
        "      text = text + result[0][1]\n",
        "      text = text.upper().replace(' ', '')\n",
        "      text = cek_plat(text)\n",
        "\n",
        "    character_comparison = compare_character_counts(text2, text)\n",
        "    '''\n",
        "    for char, counts in character_comparison.items():\n",
        "      print(f\"'{char}': String1 = {counts[0]}, String2 = {counts[1]}\")\n",
        "    '''\n",
        "    for char,counts in character_comparison.items():\n",
        "      if len(text2) == len(text):\n",
        "        if counts[0] == counts[1]:\n",
        "          cm_tp += counts[1]\n",
        "        elif counts[0] > counts[1]:\n",
        "          cm_tp += counts[1]\n",
        "          cm_fn += counts[0] - counts[1]\n",
        "      elif len(text2) > len(text):\n",
        "        if counts[0] == counts[1]:\n",
        "          cm_tp += counts[1]\n",
        "        elif counts[0] > counts[1]:\n",
        "          cm_tp += counts[1]\n",
        "          cm_fn += counts[0] - counts[1]\n",
        "      elif len(text2) < len(text):\n",
        "        cm_fp += len(text) - len(text2)\n",
        "        if counts[0] == counts[1]:\n",
        "          cm_tp += counts[1]\n",
        "        elif counts[0] > counts[1]:\n",
        "          cm_tp += counts[1]\n",
        "          cm_fn += counts[0] - counts[1]\n",
        "\n",
        "precision = cm_tp/(cm_tp+cm_fp)\n",
        "recall = cm_tp/(cm_tp+cm_fn)\n",
        "f1_score = 2 * (precision * recall) / (precision + recall)\n",
        "\n",
        "print(\"True Positive : \",cm_tp)\n",
        "print(\"False Positive : \",cm_fp)\n",
        "print(\"False Negative : \",cm_fn)\n",
        "print(\"True Negative : \",cm_tn)\n",
        "print(\"Precision:\", precision)\n",
        "print(\"Recall:\", recall)\n",
        "print(\"F1 Score:\", f1_score)"
      ]
    }
  ],
  "metadata": {
    "colab": {
      "provenance": []
    },
    "kernelspec": {
      "display_name": "Python 3",
      "name": "python3"
    },
    "language_info": {
      "codemirror_mode": {
        "name": "ipython",
        "version": 3
      },
      "file_extension": ".py",
      "mimetype": "text/x-python",
      "name": "python",
      "nbconvert_exporter": "python",
      "pygments_lexer": "ipython3",
      "version": "3.9.13"
    }
  },
  "nbformat": 4,
  "nbformat_minor": 0
}
